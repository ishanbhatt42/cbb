{
 "cells": [
  {
   "cell_type": "code",
   "execution_count": 12,
   "metadata": {},
   "outputs": [],
   "source": [
    "import pandas as pd\n",
    "import numpy as np\n",
    "import matplotlib.pyplot as plt"
   ]
  },
  {
   "cell_type": "code",
   "execution_count": 79,
   "metadata": {},
   "outputs": [
    {
     "name": "stderr",
     "output_type": "stream",
     "text": [
      "/Users/janetli/opt/anaconda3/envs/cs109a/lib/python3.7/site-packages/IPython/core/interactiveshell.py:3146: DtypeWarning: Columns (0,2,6,12) have mixed types.Specify dtype option on import or set low_memory=False.\n",
      "  interactivity=interactivity, compiler=compiler, result=result)\n"
     ]
    },
    {
     "name": "stdout",
     "output_type": "stream",
     "text": [
      "(526340, 17)\n",
      "(495648, 17)\n"
     ]
    }
   ],
   "source": [
    "raw_data = pd.read_csv('data/crime_incidence_2020-10-31.csv')\n",
    "raw_data['OCCURRED_ON_DATE'] = pd.to_datetime(raw_data['OCCURRED_ON_DATE']) # convert to datetime object\n",
    "print(raw_data.shape)\n",
    "\n",
    "# drop rows missing lat/long info\n",
    "raw_data = raw_data.dropna(subset=[\"Lat\"])\n",
    "raw_data = raw_data.drop(index = raw_data[(raw_data['Lat'] < 42)].index.values)\n",
    "print(raw_data.shape)"
   ]
  },
  {
   "cell_type": "code",
   "execution_count": 22,
   "metadata": {},
   "outputs": [
    {
     "data": {
      "text/html": [
       "<div>\n",
       "<style scoped>\n",
       "    .dataframe tbody tr th:only-of-type {\n",
       "        vertical-align: middle;\n",
       "    }\n",
       "\n",
       "    .dataframe tbody tr th {\n",
       "        vertical-align: top;\n",
       "    }\n",
       "\n",
       "    .dataframe thead th {\n",
       "        text-align: right;\n",
       "    }\n",
       "</style>\n",
       "<table border=\"1\" class=\"dataframe\">\n",
       "  <thead>\n",
       "    <tr style=\"text-align: right;\">\n",
       "      <th></th>\n",
       "      <th>INCIDENT_NUMBER</th>\n",
       "      <th>OFFENSE_CODE</th>\n",
       "      <th>OFFENSE_CODE_GROUP</th>\n",
       "      <th>OFFENSE_DESCRIPTION</th>\n",
       "      <th>DISTRICT</th>\n",
       "      <th>REPORTING_AREA</th>\n",
       "      <th>SHOOTING</th>\n",
       "      <th>OCCURRED_ON_DATE</th>\n",
       "      <th>YEAR</th>\n",
       "      <th>MONTH</th>\n",
       "      <th>DAY_OF_WEEK</th>\n",
       "      <th>HOUR</th>\n",
       "      <th>UCR_PART</th>\n",
       "      <th>STREET</th>\n",
       "      <th>Lat</th>\n",
       "      <th>Long</th>\n",
       "      <th>Location</th>\n",
       "    </tr>\n",
       "  </thead>\n",
       "  <tbody>\n",
       "    <tr>\n",
       "      <th>1</th>\n",
       "      <td>S97333701</td>\n",
       "      <td>3301</td>\n",
       "      <td>NaN</td>\n",
       "      <td>VERBAL DISPUTE</td>\n",
       "      <td>C6</td>\n",
       "      <td>915</td>\n",
       "      <td>0</td>\n",
       "      <td>2020-07-18 14:34:00</td>\n",
       "      <td>2020</td>\n",
       "      <td>7</td>\n",
       "      <td>Saturday</td>\n",
       "      <td>14</td>\n",
       "      <td>NaN</td>\n",
       "      <td>MARY BOYLE WAY</td>\n",
       "      <td>42.330813</td>\n",
       "      <td>-71.051368</td>\n",
       "      <td>(42.33081300, -71.05136800)</td>\n",
       "    </tr>\n",
       "    <tr>\n",
       "      <th>2</th>\n",
       "      <td>S47513131</td>\n",
       "      <td>2647</td>\n",
       "      <td>NaN</td>\n",
       "      <td>THREATS TO DO BODILY HARM</td>\n",
       "      <td>E18</td>\n",
       "      <td>530</td>\n",
       "      <td>0</td>\n",
       "      <td>2020-06-24 10:15:00</td>\n",
       "      <td>2020</td>\n",
       "      <td>6</td>\n",
       "      <td>Wednesday</td>\n",
       "      <td>10</td>\n",
       "      <td>NaN</td>\n",
       "      <td>READVILLE ST</td>\n",
       "      <td>42.239491</td>\n",
       "      <td>-71.135954</td>\n",
       "      <td>(42.23949100, -71.13595400)</td>\n",
       "    </tr>\n",
       "    <tr>\n",
       "      <th>3</th>\n",
       "      <td>I92102201</td>\n",
       "      <td>3301</td>\n",
       "      <td>NaN</td>\n",
       "      <td>VERBAL DISPUTE</td>\n",
       "      <td>E13</td>\n",
       "      <td>583</td>\n",
       "      <td>0</td>\n",
       "      <td>2019-12-20 03:08:00</td>\n",
       "      <td>2019</td>\n",
       "      <td>12</td>\n",
       "      <td>Friday</td>\n",
       "      <td>3</td>\n",
       "      <td>NaN</td>\n",
       "      <td>DAY ST</td>\n",
       "      <td>42.325122</td>\n",
       "      <td>-71.107779</td>\n",
       "      <td>(42.32512200, -71.10777900)</td>\n",
       "    </tr>\n",
       "    <tr>\n",
       "      <th>4</th>\n",
       "      <td>I92097173</td>\n",
       "      <td>3115</td>\n",
       "      <td>NaN</td>\n",
       "      <td>INVESTIGATE PERSON</td>\n",
       "      <td>C11</td>\n",
       "      <td>355</td>\n",
       "      <td>0</td>\n",
       "      <td>2019-10-23 00:00:00</td>\n",
       "      <td>2019</td>\n",
       "      <td>10</td>\n",
       "      <td>Wednesday</td>\n",
       "      <td>0</td>\n",
       "      <td>NaN</td>\n",
       "      <td>GIBSON ST</td>\n",
       "      <td>42.297555</td>\n",
       "      <td>-71.059709</td>\n",
       "      <td>(42.29755500, -71.05970900)</td>\n",
       "    </tr>\n",
       "    <tr>\n",
       "      <th>5</th>\n",
       "      <td>I92094519</td>\n",
       "      <td>3126</td>\n",
       "      <td>NaN</td>\n",
       "      <td>WARRANT ARREST - OUTSIDE OF BOSTON WARRANT</td>\n",
       "      <td>D14</td>\n",
       "      <td>765</td>\n",
       "      <td>0</td>\n",
       "      <td>2019-11-22 07:50:00</td>\n",
       "      <td>2019</td>\n",
       "      <td>11</td>\n",
       "      <td>Friday</td>\n",
       "      <td>7</td>\n",
       "      <td>NaN</td>\n",
       "      <td>BROOKS ST</td>\n",
       "      <td>42.355120</td>\n",
       "      <td>-71.162678</td>\n",
       "      <td>(42.35512000, -71.16267800)</td>\n",
       "    </tr>\n",
       "  </tbody>\n",
       "</table>\n",
       "</div>"
      ],
      "text/plain": [
       "  INCIDENT_NUMBER  OFFENSE_CODE OFFENSE_CODE_GROUP  \\\n",
       "1       S97333701          3301                NaN   \n",
       "2       S47513131          2647                NaN   \n",
       "3       I92102201          3301                NaN   \n",
       "4       I92097173          3115                NaN   \n",
       "5       I92094519          3126                NaN   \n",
       "\n",
       "                          OFFENSE_DESCRIPTION DISTRICT REPORTING_AREA  \\\n",
       "1                              VERBAL DISPUTE       C6            915   \n",
       "2                   THREATS TO DO BODILY HARM      E18            530   \n",
       "3                              VERBAL DISPUTE      E13            583   \n",
       "4                          INVESTIGATE PERSON      C11            355   \n",
       "5  WARRANT ARREST - OUTSIDE OF BOSTON WARRANT      D14            765   \n",
       "\n",
       "  SHOOTING     OCCURRED_ON_DATE  YEAR  MONTH DAY_OF_WEEK  HOUR UCR_PART  \\\n",
       "1        0  2020-07-18 14:34:00  2020      7    Saturday    14      NaN   \n",
       "2        0  2020-06-24 10:15:00  2020      6   Wednesday    10      NaN   \n",
       "3        0  2019-12-20 03:08:00  2019     12      Friday     3      NaN   \n",
       "4        0  2019-10-23 00:00:00  2019     10   Wednesday     0      NaN   \n",
       "5        0  2019-11-22 07:50:00  2019     11      Friday     7      NaN   \n",
       "\n",
       "           STREET        Lat       Long                     Location  \n",
       "1  MARY BOYLE WAY  42.330813 -71.051368  (42.33081300, -71.05136800)  \n",
       "2    READVILLE ST  42.239491 -71.135954  (42.23949100, -71.13595400)  \n",
       "3          DAY ST  42.325122 -71.107779  (42.32512200, -71.10777900)  \n",
       "4       GIBSON ST  42.297555 -71.059709  (42.29755500, -71.05970900)  \n",
       "5       BROOKS ST  42.355120 -71.162678  (42.35512000, -71.16267800)  "
      ]
     },
     "execution_count": 22,
     "metadata": {},
     "output_type": "execute_result"
    }
   ],
   "source": [
    "raw_data.head()"
   ]
  },
  {
   "cell_type": "code",
   "execution_count": 7,
   "metadata": {},
   "outputs": [
    {
     "data": {
      "text/plain": [
       "Index(['INCIDENT_NUMBER', 'OFFENSE_CODE', 'OFFENSE_CODE_GROUP',\n",
       "       'OFFENSE_DESCRIPTION', 'DISTRICT', 'REPORTING_AREA', 'SHOOTING',\n",
       "       'OCCURRED_ON_DATE', 'YEAR', 'MONTH', 'DAY_OF_WEEK', 'HOUR', 'UCR_PART',\n",
       "       'STREET', 'Lat', 'Long', 'Location'],\n",
       "      dtype='object')"
      ]
     },
     "execution_count": 7,
     "metadata": {},
     "output_type": "execute_result"
    }
   ],
   "source": [
    "raw_data.columns"
   ]
  },
  {
   "cell_type": "code",
   "execution_count": 58,
   "metadata": {},
   "outputs": [
    {
     "data": {
      "text/plain": [
       "Motor Vehicle Accident Response    41310\n",
       "Larceny                            33671\n",
       "Medical Assistance                 31223\n",
       "Investigate Person                 23759\n",
       "Other                              22673\n",
       "Simple Assault                     20113\n",
       "Drug Violation                     19493\n",
       "Vandalism                          19425\n",
       "Verbal Disputes                    17550\n",
       "Investigate Property               14429\n",
       "Towed                              14224\n",
       "Larceny From Motor Vehicle         13185\n",
       "Property Lost                      12835\n",
       "Warrant Arrests                    10036\n",
       "Aggravated Assault                  9935\n",
       "Fraud                               8081\n",
       "Missing Person Located              7150\n",
       "Residential Burglary                6857\n",
       "Violations                          6656\n",
       "Auto Theft                          5793\n",
       "Name: OFFENSE_CODE_GROUP, dtype: int64"
      ]
     },
     "execution_count": 58,
     "metadata": {},
     "output_type": "execute_result"
    }
   ],
   "source": [
    "raw_data['OFFENSE_CODE_GROUP'].value_counts().head(20)"
   ]
  },
  {
   "cell_type": "code",
   "execution_count": 9,
   "metadata": {},
   "outputs": [
    {
     "data": {
      "text/plain": [
       "B2     67967\n",
       "C11    57306\n",
       "D4     55170\n",
       "B3     48272\n",
       "A1     47718\n",
       "C6     31043\n",
       "D14    26814\n",
       "E13    23442\n",
       "E18    23373\n",
       "E5     17746\n",
       "A7     17175\n",
       "A15     8644\n",
       "Name: DISTRICT, dtype: int64"
      ]
     },
     "execution_count": 9,
     "metadata": {},
     "output_type": "execute_result"
    }
   ],
   "source": [
    "raw_data['DISTRICT'].value_counts()"
   ]
  },
  {
   "cell_type": "code",
   "execution_count": 30,
   "metadata": {},
   "outputs": [
    {
     "data": {
      "text/plain": [
       "[<matplotlib.lines.Line2D at 0x7ff54ee2ab10>]"
      ]
     },
     "execution_count": 30,
     "metadata": {},
     "output_type": "execute_result"
    },
    {
     "data": {
      "image/png": "[encoded data removed]",
      "text/plain": [
       "<Figure size 432x288 with 1 Axes>"
      ]
     },
     "metadata": {
      "needs_background": "light"
     },
     "output_type": "display_data"
    }
   ],
   "source": [
    "plt.plot(raw_data[\"Long\"], raw_data[\"Lat\"], 'bo', markersize=2)"
   ]
  },
  {
   "cell_type": "code",
   "execution_count": 54,
   "metadata": {},
   "outputs": [
    {
     "data": {
      "image/png": "[encoded data removed]",
      "text/plain": [
       "<Figure size 504x360 with 1 Axes>"
      ]
     },
     "metadata": {
      "needs_background": "light"
     },
     "output_type": "display_data"
    }
   ],
   "source": [
    "# plot crimes vs time of day\n",
    "x = raw_data['HOUR'].value_counts().index.values\n",
    "labels = []\n",
    "for i in range(24):\n",
    "    if i == 0:\n",
    "        labels.append(\"12 AM\")\n",
    "    elif i == 12:\n",
    "        labels.append(\"12 PM\")\n",
    "    elif i < 12:\n",
    "        labels.append(str(i)+\" AM\")\n",
    "    elif i > 12:\n",
    "        labels.append(str(i-12) + \" PM\")\n",
    "plt.figure(figsize=[7,5])\n",
    "plt.bar(x, raw_data['HOUR'].value_counts())\n",
    "plt.xticks(ticks=range(24), labels=labels, rotation=90)\n",
    "plt.xlabel('Hour')\n",
    "plt.ylabel('Number of Crimes')\n",
    "plt.title('Crimes over the day')\n",
    "plt.show()"
   ]
  },
  {
   "cell_type": "code",
   "execution_count": 63,
   "metadata": {},
   "outputs": [
    {
     "data": {
      "image/png": "[encoded data removed]",
      "text/plain": [
       "<Figure size 504x360 with 1 Axes>"
      ]
     },
     "metadata": {
      "needs_background": "light"
     },
     "output_type": "display_data"
    }
   ],
   "source": [
    "# plot crime over week\n",
    "plt.figure(figsize=[7,5])\n",
    "plt.bar(raw_data['DAY_OF_WEEK'].value_counts().index.values, raw_data['DAY_OF_WEEK'].value_counts())\n",
    "plt.xlabel('Day')\n",
    "plt.ylabel('Number of Crimes')\n",
    "plt.title('Crimes over the week')\n",
    "plt.show()"
   ]
  },
  {
   "cell_type": "code",
   "execution_count": 68,
   "metadata": {},
   "outputs": [
    {
     "data": {
      "image/png": "[encoded data removed]",
      "text/plain": [
       "<Figure size 504x360 with 1 Axes>"
      ]
     },
     "metadata": {
      "needs_background": "light"
     },
     "output_type": "display_data"
    }
   ],
   "source": [
    "# plot crime over month\n",
    "plt.figure(figsize=[7,5])\n",
    "plt.bar(raw_data['MONTH'].value_counts().index.values, raw_data['MONTH'].value_counts())\n",
    "plt.xticks(ticks=range(1,13))\n",
    "plt.xlabel('Month')\n",
    "plt.ylabel('Number of Crimes')\n",
    "plt.title('Crimes per month')\n",
    "plt.show()"
   ]
  },
  {
   "cell_type": "code",
   "execution_count": 69,
   "metadata": {},
   "outputs": [
    {
     "data": {
      "image/png": "[encoded data removed]",
      "text/plain": [
       "<Figure size 504x360 with 1 Axes>"
      ]
     },
     "metadata": {
      "needs_background": "light"
     },
     "output_type": "display_data"
    }
   ],
   "source": [
    "plt.figure(figsize=[7,5])\n",
    "plt.bar(raw_data['YEAR'].value_counts().index.values, raw_data['YEAR'].value_counts())\n",
    "plt.xlabel('Year')\n",
    "plt.ylabel('Number of Crimes')\n",
    "plt.title('Crimes per year')\n",
    "plt.show()"
   ]
  },
  {
   "cell_type": "code",
   "execution_count": 72,
   "metadata": {},
   "outputs": [],
   "source": [
    "raw_data['OCCURRED_ON_DATE'] = pd.to_datetime(raw_data['OCCURRED_ON_DATE'])"
   ]
  },
  {
   "cell_type": "code",
   "execution_count": 78,
   "metadata": {},
   "outputs": [
    {
     "data": {
      "text/plain": [
       "INCIDENT_NUMBER                object\n",
       "OFFENSE_CODE                    int64\n",
       "OFFENSE_CODE_GROUP             object\n",
       "OFFENSE_DESCRIPTION            object\n",
       "DISTRICT                       object\n",
       "REPORTING_AREA                 object\n",
       "SHOOTING                       object\n",
       "OCCURRED_ON_DATE       datetime64[ns]\n",
       "YEAR                            int64\n",
       "MONTH                           int64\n",
       "DAY_OF_WEEK                    object\n",
       "HOUR                            int64\n",
       "UCR_PART                       object\n",
       "STREET                         object\n",
       "Lat                           float64\n",
       "Long                          float64\n",
       "Location                       object\n",
       "dtype: object"
      ]
     },
     "execution_count": 78,
     "metadata": {},
     "output_type": "execute_result"
    }
   ],
   "source": [
    "raw_data.dtypes"
   ]
  },
  {
   "cell_type": "code",
   "execution_count": null,
   "metadata": {},
   "outputs": [],
   "source": []
  }
 ],
 "metadata": {
  "kernelspec": {
   "display_name": "Python 3",
   "language": "python",
   "name": "python3"
  },
  "language_info": {
   "codemirror_mode": {
    "name": "ipython",
    "version": 3
   },
   "file_extension": ".py",
   "mimetype": "text/x-python",
   "name": "python",
   "nbconvert_exporter": "python",
   "pygments_lexer": "ipython3",
   "version": "3.7.8"
  }
 },
 "nbformat": 4,
 "nbformat_minor": 4
}
